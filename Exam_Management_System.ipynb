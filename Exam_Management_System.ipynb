{
  "nbformat": 4,
  "nbformat_minor": 0,
  "metadata": {
    "colab": {
      "provenance": []
    },
    "kernelspec": {
      "name": "python3",
      "display_name": "Python 3"
    },
    "language_info": {
      "name": "python"
    }
  },
  "cells": [
    {
      "cell_type": "code",
      "execution_count": 1,
      "metadata": {
        "id": "ow7tZTPHYuuN"
      },
      "outputs": [],
      "source": [
        "import sqlite3\n",
        "from getpass import getpass\n",
        "import random"
      ]
    },
    {
      "cell_type": "code",
      "source": [
        "conn = sqlite3.connect(\":memory:\")  # Use \":memory:\" for temporary database or \"exam_system.db\" for persistent storage\n",
        "cursor = conn.cursor()"
      ],
      "metadata": {
        "id": "QWsIT-2oY4gB"
      },
      "execution_count": 2,
      "outputs": []
    },
    {
      "cell_type": "code",
      "source": [
        "cursor.execute(\"\"\"\n",
        "CREATE TABLE IF NOT EXISTS students (\n",
        "    id INTEGER PRIMARY KEY AUTOINCREMENT,\n",
        "    name TEXT NOT NULL,\n",
        "    email TEXT UNIQUE NOT NULL,\n",
        "    password TEXT NOT NULL\n",
        ")\n",
        "\"\"\")\n",
        "cursor.execute(\"\"\"\n",
        "CREATE TABLE IF NOT EXISTS subjects (\n",
        "    id INTEGER PRIMARY KEY AUTOINCREMENT,\n",
        "    name TEXT NOT NULL,\n",
        "    description TEXT\n",
        ")\n",
        "\"\"\")\n",
        "cursor.execute(\"\"\"\n",
        "CREATE TABLE IF NOT EXISTS exams (\n",
        "    id INTEGER PRIMARY KEY AUTOINCREMENT,\n",
        "    subject_id INTEGER NOT NULL,\n",
        "    date TEXT NOT NULL,\n",
        "    time_limit INTEGER NOT NULL,\n",
        "    FOREIGN KEY(subject_id) REFERENCES subjects(id)\n",
        ")\n",
        "\"\"\")\n",
        "cursor.execute(\"\"\"\n",
        "CREATE TABLE IF NOT EXISTS questions (\n",
        "    id INTEGER PRIMARY KEY AUTOINCREMENT,\n",
        "    exam_id INTEGER NOT NULL,\n",
        "    question_text TEXT NOT NULL,\n",
        "    option1 TEXT NOT NULL,\n",
        "    option2 TEXT NOT NULL,\n",
        "    option3 TEXT NOT NULL,\n",
        "    option4 TEXT NOT NULL,\n",
        "    correct_option INTEGER NOT NULL,\n",
        "    FOREIGN KEY(exam_id) REFERENCES exams(id)\n",
        ")\n",
        "\"\"\")\n",
        "cursor.execute(\"\"\"\n",
        "CREATE TABLE IF NOT EXISTS results (\n",
        "    id INTEGER PRIMARY KEY AUTOINCREMENT,\n",
        "    student_id INTEGER NOT NULL,\n",
        "    exam_id INTEGER NOT NULL,\n",
        "    score INTEGER NOT NULL,\n",
        "    FOREIGN KEY(student_id) REFERENCES students(id),\n",
        "    FOREIGN KEY(exam_id) REFERENCES exams(id)\n",
        ")\n",
        "\"\"\")\n",
        "conn.commit()"
      ],
      "metadata": {
        "id": "6X5hwMHaeK9o"
      },
      "execution_count": 3,
      "outputs": []
    },
    {
      "cell_type": "code",
      "source": [
        "def add_student():\n",
        "    name = input(\"Enter student name: \")\n",
        "    email = input(\"Enter student email: \")\n",
        "    password = getpass(\"Enter password: \")\n",
        "    try:\n",
        "        cursor.execute(\"INSERT INTO students (name, email, password) VALUES (?, ?, ?)\", (name, email, password))\n",
        "        conn.commit()\n",
        "        print(\"Student added successfully!\")\n",
        "    except sqlite3.IntegrityError:\n",
        "        print(\"Email already exists!\")"
      ],
      "metadata": {
        "id": "gnQ6cVAIeQmS"
      },
      "execution_count": 4,
      "outputs": []
    },
    {
      "cell_type": "code",
      "source": [
        "def add_subject():\n",
        "    name = input(\"Enter subject name: \")\n",
        "    description = input(\"Enter subject description: \")\n",
        "    cursor.execute(\"INSERT INTO subjects (name, description) VALUES (?, ?)\", (name, description))\n",
        "    conn.commit()\n",
        "    print(\"Subject added successfully!\")"
      ],
      "metadata": {
        "id": "8xbzX2MreTuh"
      },
      "execution_count": 5,
      "outputs": []
    },
    {
      "cell_type": "code",
      "source": [
        "def add_exam():\n",
        "    subject_id = int(input(\"Enter subject ID: \"))\n",
        "    date = input(\"Enter exam date (YYYY-MM-DD): \")\n",
        "    time_limit = int(input(\"Enter time limit (minutes): \"))\n",
        "    cursor.execute(\"INSERT INTO exams (subject_id, date, time_limit) VALUES (?, ?, ?)\", (subject_id, date, time_limit))\n",
        "    conn.commit()\n",
        "    print(\"Exam added successfully!\")\n"
      ],
      "metadata": {
        "id": "7cii6DfaeWgI"
      },
      "execution_count": 6,
      "outputs": []
    },
    {
      "cell_type": "code",
      "source": [
        "def add_question():\n",
        "    exam_id = int(input(\"Enter exam ID: \"))\n",
        "    question_text = input(\"Enter question: \")\n",
        "    option1 = input(\"Enter option 1: \")\n",
        "    option2 = input(\"Enter option 2: \")\n",
        "    option3 = input(\"Enter option 3: \")\n",
        "    option4 = input(\"Enter option 4: \")\n",
        "    correct_option = int(input(\"Enter the correct option number (1-4): \"))\n",
        "    cursor.execute(\"INSERT INTO questions (exam_id, question_text, option1, option2, option3, option4, correct_option) VALUES (?, ?, ?, ?, ?, ?, ?)\",\n",
        "                   (exam_id, question_text, option1, option2, option3, option4, correct_option))\n",
        "    conn.commit()\n",
        "    print(\"Question added successfully!\")"
      ],
      "metadata": {
        "id": "bqINBOoYeZMU"
      },
      "execution_count": 7,
      "outputs": []
    },
    {
      "cell_type": "code",
      "source": [
        "def student_login():\n",
        "    email = input(\"Enter your email: \")\n",
        "    password = getpass(\"Enter your password: \")\n",
        "    cursor.execute(\"SELECT id FROM students WHERE email = ? AND password = ?\", (email, password))\n",
        "    student = cursor.fetchone()\n",
        "    if student:\n",
        "        print(\"Login successful!\")\n",
        "        return student[0]\n",
        "    else:\n",
        "        print(\"Invalid credentials.\")\n",
        "        return None\n",
        "\n",
        "def take_exam(student_id):\n",
        "    exam_id = int(input(\"Enter the exam ID you want to take: \"))\n",
        "    cursor.execute(\"SELECT * FROM questions WHERE exam_id = ?\", (exam_id,))\n",
        "    questions = cursor.fetchall()\n",
        "    if not questions:\n",
        "        print(\"No questions found for this exam.\")\n",
        "        return\n",
        "    score = 0\n",
        "    for q in questions:\n",
        "        print(f\"\\n{q[2]}\")\n",
        "        print(f\"1) {q[3]}\")\n",
        "        print(f\"2) {q[4]}\")\n",
        "        print(f\"3) {q[5]}\")\n",
        "        print(f\"4) {q[6]}\")\n",
        "        answer = int(input(\"Enter your answer (1-4): \"))\n",
        "        if answer == q[7]:\n",
        "            score += 1\n",
        "    cursor.execute(\"INSERT INTO results (student_id, exam_id, score) VALUES (?, ?, ?)\", (student_id, exam_id, score))\n",
        "    conn.commit()\n",
        "    print(f\"Exam completed! Your score: {score}\")"
      ],
      "metadata": {
        "id": "Mxc2n2ouebtG"
      },
      "execution_count": 8,
      "outputs": []
    },
    {
      "cell_type": "code",
      "source": [
        "def main():\n",
        "    while True:\n",
        "        print(\"\\nMain Menu:\")\n",
        "        print(\"1. Admin: Add Student\")\n",
        "        print(\"2. Admin: Add Subject\")\n",
        "        print(\"3. Admin: Add Exam\")\n",
        "        print(\"4. Admin: Add Question\")\n",
        "        print(\"5. Student: Login and Take Exam\")\n",
        "        print(\"6. Exit\")\n",
        "        choice = input(\"Enter your choice: \")\n",
        "        if choice == '1':\n",
        "            add_student()\n",
        "        elif choice == '2':\n",
        "            add_subject()\n",
        "        elif choice == '3':\n",
        "            add_exam()\n",
        "        elif choice == '4':\n",
        "            add_question()\n",
        "        elif choice == '5':\n",
        "            student_id = student_login()\n",
        "            if student_id:\n",
        "                take_exam(student_id)\n",
        "        elif choice == '6':\n",
        "            print(\"Exiting...\")\n",
        "            break\n",
        "        else:\n",
        "            print(\"Invalid choice!\")\n",
        "\n",
        "if __name__ == \"__main__\":\n",
        "    main()"
      ],
      "metadata": {
        "colab": {
          "base_uri": "https://localhost:8080/"
        },
        "id": "9He5RChnefwD",
        "outputId": "4c1c0321-f7d2-4dda-8fa9-c4e8d06b353b"
      },
      "execution_count": 9,
      "outputs": [
        {
          "output_type": "stream",
          "name": "stdout",
          "text": [
            "\n",
            "Main Menu:\n",
            "1. Admin: Add Student\n",
            "2. Admin: Add Subject\n",
            "3. Admin: Add Exam\n",
            "4. Admin: Add Question\n",
            "5. Student: Login and Take Exam\n",
            "6. Exit\n",
            "Enter your choice: 1\n",
            "Enter student name: Vansh\n",
            "Enter student email: vansh@gmail.com\n",
            "Enter password: ··········\n",
            "Student added successfully!\n",
            "\n",
            "Main Menu:\n",
            "1. Admin: Add Student\n",
            "2. Admin: Add Subject\n",
            "3. Admin: Add Exam\n",
            "4. Admin: Add Question\n",
            "5. Student: Login and Take Exam\n",
            "6. Exit\n",
            "Enter your choice: 3\n",
            "Enter subject ID: 5656\n",
            "Enter exam date (YYYY-MM-DD): 2025-08-28\n",
            "Enter time limit (minutes): 180\n",
            "Exam added successfully!\n",
            "\n",
            "Main Menu:\n",
            "1. Admin: Add Student\n",
            "2. Admin: Add Subject\n",
            "3. Admin: Add Exam\n",
            "4. Admin: Add Question\n",
            "5. Student: Login and Take Exam\n",
            "6. Exit\n",
            "Enter your choice: 5\n",
            "Enter your email: vansh@gmail.com\n",
            "Enter your password: ··········\n",
            "Login successful!\n",
            "Enter the exam ID you want to take: 5656\n",
            "No questions found for this exam.\n",
            "\n",
            "Main Menu:\n",
            "1. Admin: Add Student\n",
            "2. Admin: Add Subject\n",
            "3. Admin: Add Exam\n",
            "4. Admin: Add Question\n",
            "5. Student: Login and Take Exam\n",
            "6. Exit\n",
            "Enter your choice: 6\n",
            "Exiting...\n"
          ]
        }
      ]
    }
  ]
}